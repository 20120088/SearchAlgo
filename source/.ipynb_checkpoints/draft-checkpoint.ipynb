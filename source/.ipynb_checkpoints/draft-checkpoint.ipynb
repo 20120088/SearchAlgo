{
 "cells": [
  {
   "cell_type": "code",
   "execution_count": 2,
   "id": "d6b51695",
   "metadata": {},
   "outputs": [],
   "source": [
    "import matplotlib.pyplot as plt\n",
    "import copy\n",
    "import matplotlib.animation as animation"
   ]
  },
  {
   "cell_type": "code",
   "execution_count": 40,
   "id": "ae9ddcec",
   "metadata": {},
   "outputs": [],
   "source": [
    "def read_map(file_name):\n",
    "    with open(file_name, \"r\") as f:\n",
    "        n = int(f.readline())\n",
    "\n",
    "        plus_point = [] #read list of plus point\n",
    "        for i in range(n):\n",
    "            point = [int(x) for x in f.readline().split(' ')]\n",
    "            point[2] = -point[2]\n",
    "            plus_point.append(point)\n",
    "\n",
    "        maze = [] #read maze\n",
    "        for line in f:\n",
    "            if line[-1] == '\\n': line = line[:-1]\n",
    "            maze.append([x for x in line])\n",
    "\n",
    "        for point in plus_point: #embed plus point to maze\n",
    "            maze[point[0]][point[1]] = point[2]\n",
    "        \n",
    "\n",
    "        for i,x in enumerate(maze[0]): \n",
    "            if x == ' ': maze[0][i] = 'G'\n",
    "        for i,x in enumerate(maze[-1]): \n",
    "            if x == ' ': maze[-1][i] = 'G'\n",
    "        for line in maze[1:-1]:\n",
    "            if line[0] == ' ': line[0] = 'G'\n",
    "            if line[-1] == ' ': line[-1] = 'G'\n",
    "        \n",
    "        return maze\n",
    "    \n",
    "def print_maze(maze):\n",
    "    for line in maze:\n",
    "        for char in line:\n",
    "            print(char, end = '')\n",
    "        print()\n",
    "        \n",
    "def encode_char(char):\n",
    "    if char == 'x': return 0\n",
    "    if char == 'S': return 255\n",
    "    if char == ' ': return 170\n",
    "    if char == 'P': return 235\n",
    "    if char == 'V': return 200\n",
    "    if char == 'O': return 220\n",
    "    if char == 'G': return 240\n",
    "    return 120 - int(char) * 9\n",
    "\n",
    "def get_neighbors(current, maze):\n",
    "    neighbors = []\n",
    "    if current[0] > 0:\n",
    "        neighbors.append([current[0] - 1, current[1]])\n",
    "    if current[0] < len(maze) - 1:\n",
    "        neighbors.append([current[0] + 1, current[1]])\n",
    "    if current[1] > 0:\n",
    "        neighbors.append([current[0], current[1] - 1])\n",
    "    if current[1] < len(maze[0]) - 1:\n",
    "        neighbors.append([current[0], current[1] + 1])\n",
    "\n",
    "    return neighbors\n",
    "\n",
    "def update_maze(maze, opened, visited, path, start, goal):\n",
    "    #update maze status after each iteration\n",
    "    new_maze = copy.deepcopy(maze)\n",
    "    for i in range(len(new_maze)):\n",
    "        for j in range(len(new_maze[i])):\n",
    "            if [i, j] in visited:\n",
    "                new_maze[i][j] = 'V'\n",
    "            if [i, j] in opened:\n",
    "                new_maze[i][j] = 'O'\n",
    "            if [i, j] in path:\n",
    "                new_maze[i][j] = 'P'\n",
    "            if [i, j] == start:\n",
    "                new_maze[i][j] = 'S'\n",
    "            if [i, j] == goal:\n",
    "                new_maze[i][j] = 'G'\n",
    "    return new_maze\n",
    "\n",
    "def tracing(trace, goal, start):\n",
    "    path = []\n",
    "    current = goal\n",
    "    while current != start:\n",
    "        path.append(current)\n",
    "        current = trace[current[0]][current[1]]\n",
    "    return path\n",
    "\n",
    "def bfs(maze):\n",
    "    start = [0, 0]\n",
    "    goal = [0, 0]\n",
    "    #find start and goal point\n",
    "    for i in range(len(maze)):\n",
    "        for j in range(len(maze[i])):\n",
    "            if maze[i][j] == 'S':\n",
    "                start = [i, j]\n",
    "            if maze[i][j] == 'G':\n",
    "                goal = [i, j]\n",
    "\n",
    "    #initialize stack\n",
    "    opened = [start]\n",
    "    visited = []\n",
    "    path = []\n",
    "    trace = [[[0,0] for i in range(len(maze[0]))] for j in range(len(maze))]\n",
    "    iter_maze = [maze]\n",
    "\n",
    "    #loop until stack is empty\n",
    "    while len(opened) > 0:\n",
    "        current = opened.pop(0)\n",
    "        visited.append(current)\n",
    "        #if reach goal\n",
    "        if current == goal:\n",
    "            path = tracing(trace, goal, start)\n",
    "            iter_maze.append(update_maze(maze, opened, visited, path, start, goal))\n",
    "            return iter_maze, trace\n",
    "        \n",
    "        for neighbor in get_neighbors(current, maze):\n",
    "            #if neighbor is not visited and not a wall\n",
    "            if neighbor not in visited and neighbor not in opened and maze[neighbor[0]][neighbor[1]] != 'x':\n",
    "                opened.append(neighbor)\n",
    "                trace[neighbor[0]][neighbor[1]] = current\n",
    "                \n",
    "        iter_maze.append(update_maze(maze, opened, visited, path, start, goal))\n",
    "\n",
    "    return 'NO'"
   ]
  },
  {
   "cell_type": "code",
   "execution_count": 41,
   "id": "4e1953bf",
   "metadata": {},
   "outputs": [],
   "source": [
    "file_name = r'../input/level__1/input1.txt'\n",
    "maze = read_map(file_name)\n",
    "iter_maze, trace = bfs(maze)"
   ]
  },
  {
   "cell_type": "code",
   "execution_count": 42,
   "id": "40edf60f",
   "metadata": {
    "scrolled": true
   },
   "outputs": [
    {
     "data": {
      "text/plain": [
       "<matplotlib.image.AxesImage at 0x7f0e20140430>"
      ]
     },
     "execution_count": 42,
     "metadata": {},
     "output_type": "execute_result"
    },
    {
     "data": {
      "image/png": "[encoded data removed]",
      "text/plain": [
       "<Figure size 1100x2200 with 1 Axes>"
      ]
     },
     "metadata": {},
     "output_type": "display_data"
    }
   ],
   "source": [
    "encoded_maze = [list(map(encode_char, line)) for line in iter_maze[-1]]\n",
    "\n",
    "fig, ax = plt.subplots(figsize = (len(encoded_maze), len(encoded_maze[0])))\n",
    "plt.xticks(color = 'w')\n",
    "plt.yticks(color = 'w')\n",
    "plt.tick_params(bottom = False, left = False)\n",
    "\n",
    "plt.imshow(encoded_maze, cmap = 'rainbow')"
   ]
  },
  {
   "cell_type": "code",
   "execution_count": null,
   "id": "ee3d5c83",
   "metadata": {},
   "outputs": [],
   "source": []
  }
 ],
 "metadata": {
  "kernelspec": {
   "display_name": "Python 3 (ipykernel)",
   "language": "python",
   "name": "python3"
  },
  "language_info": {
   "codemirror_mode": {
    "name": "ipython",
    "version": 3
   },
   "file_extension": ".py",
   "mimetype": "text/x-python",
   "name": "python",
   "nbconvert_exporter": "python",
   "pygments_lexer": "ipython3",
   "version": "3.8.8"
  }
 },
 "nbformat": 4,
 "nbformat_minor": 5
}
